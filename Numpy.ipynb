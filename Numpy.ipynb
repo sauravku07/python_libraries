{
 "cells": [
  {
   "cell_type": "code",
   "execution_count": 15,
   "id": "e91efd1b-8825-4f2e-be67-dffa04d6e4c6",
   "metadata": {},
   "outputs": [
    {
     "name": "stdout",
     "output_type": "stream",
     "text": [
      "[[20 30 60]\n",
      " [50 10 40]]\n",
      "[[50 60 70]\n",
      " [60 70 90]]\n",
      "[[ 70  90 130]\n",
      " [110  80 130]]\n",
      "[[1000 1800 4200]\n",
      " [3000  700 3600]]\n",
      "[[ 70  90 130]\n",
      " [110  80 130]]\n",
      "[[-30 -30 -10]\n",
      " [-10 -60 -50]]\n"
     ]
    }
   ],
   "source": [
    "import numpy as np\n",
    "a = np.array([[20,30,60],[50,10,40]])\n",
    "b = np.array([[50,60,70],[60,70,90]])\n",
    "print(a)\n",
    "print(b)\n",
    "print(a+b)\n",
    "print(a*b)\n",
    "print(np.add(a,b))\n",
    "print(np.subtract(a,b))"
   ]
  },
  {
   "cell_type": "code",
   "execution_count": 16,
   "id": "75d02860-1f9e-4ae3-946d-6611d0ab5d72",
   "metadata": {},
   "outputs": [
    {
     "name": "stdout",
     "output_type": "stream",
     "text": [
      "(2, 3)\n",
      "2\n",
      "6\n",
      "<class 'numpy.ndarray'>\n",
      "int32\n",
      "[[30. 40. 50.]\n",
      " [60. 70. 80.]]\n",
      "[['30' '40' '50']\n",
      " ['60' '70' '80']]\n"
     ]
    }
   ],
   "source": [
    "a = [[30,40,50],[60,70,80]]\n",
    "arr = np.array(a)\n",
    "print(arr.shape)\n",
    "print(len(arr))\n",
    "print(np.size(arr))\n",
    "print(type(arr))\n",
    "print(arr.dtype)\n",
    "print(arr.astype(float))\n",
    "print(arr.astype(str))"
   ]
  },
  {
   "cell_type": "code",
   "execution_count": 18,
   "id": "a4fe885d-3db3-4022-96b3-5eee0db9a21d",
   "metadata": {},
   "outputs": [
    {
     "name": "stdout",
     "output_type": "stream",
     "text": [
      "[  8  27 216]\n"
     ]
    }
   ],
   "source": [
    "a = np.array([2,3,6])\n",
    "b = np.array([3])\n",
    "print(np.power(a,b))"
   ]
  },
  {
   "cell_type": "code",
   "execution_count": 19,
   "id": "56f16c91-37ce-420b-9f96-fff357aa6a8d",
   "metadata": {},
   "outputs": [
    {
     "name": "stdout",
     "output_type": "stream",
     "text": [
      "[2. 3. 4.]\n"
     ]
    }
   ],
   "source": [
    "a = np.array([4,9,16])\n",
    "print(np.sqrt(a))"
   ]
  },
  {
   "cell_type": "code",
   "execution_count": 21,
   "id": "ff2e8f50-20b6-4f1c-9dc7-4f22a2ba9e69",
   "metadata": {},
   "outputs": [
    {
     "name": "stdout",
     "output_type": "stream",
     "text": [
      "[20 30 60 50 60 70]\n"
     ]
    }
   ],
   "source": [
    "a = np.array([20,30,60])\n",
    "b = np.array([50,60,70])\n",
    "print(np.concatenate([a,b]))"
   ]
  },
  {
   "cell_type": "code",
   "execution_count": 25,
   "id": "cea41c06-5d68-41d1-8361-57aa8b0df59a",
   "metadata": {},
   "outputs": [
    {
     "name": "stdout",
     "output_type": "stream",
     "text": [
      "[[20 30 60 50 60 70]\n",
      " [50 10 40 60 70 90]]\n",
      "[[20 30 60 50 60 70]\n",
      " [50 10 40 60 70 90]]\n",
      "[[20 30 60]\n",
      " [50 10 40]\n",
      " [50 60 70]\n",
      " [60 70 90]]\n"
     ]
    }
   ],
   "source": [
    "a = np.array([[20,30,60],[50,10,40]])\n",
    "b = np.array([[50,60,70],[60,70,90]])\n",
    "print(np.concatenate([a,b], axis = 1))\n",
    "print(np.hstack([a,b]))        #horizontal concatenation\n",
    "print(np.vstack([a,b]))        #vertical concatenation"
   ]
  },
  {
   "cell_type": "code",
   "execution_count": 28,
   "id": "38c691a8-914c-4de7-b8cc-8c581cea2bc7",
   "metadata": {},
   "outputs": [
    {
     "name": "stdout",
     "output_type": "stream",
     "text": [
      "[array([2, 3]), array([6, 7]), array([8, 9])]\n",
      "[6 7]\n"
     ]
    }
   ],
   "source": [
    "a = np.array([2,3,6,7,8,9])\n",
    "b = np.array_split(a,3)\n",
    "print(b)\n",
    "print(b[1])"
   ]
  },
  {
   "cell_type": "code",
   "execution_count": 30,
   "id": "bb51923d-f431-4f3e-b046-f4632d414d10",
   "metadata": {},
   "outputs": [
    {
     "name": "stdout",
     "output_type": "stream",
     "text": [
      "[2 3 4 5]\n",
      "[ 2 50  3  4]\n"
     ]
    }
   ],
   "source": [
    "a = np.array([2,3,4])\n",
    "print(np.append(a,5))\n",
    "print(np.insert(a,1,50))"
   ]
  },
  {
   "cell_type": "code",
   "execution_count": 39,
   "id": "ce286173-af25-4c4a-b2dd-2ea0036163eb",
   "metadata": {},
   "outputs": [
    {
     "name": "stdout",
     "output_type": "stream",
     "text": [
      "[2 3 5 6 8 9]\n",
      "[ 2 50  3  5  6]\n",
      "[[ 2  3]\n",
      " [50 60]\n",
      " [ 5  6]]\n"
     ]
    }
   ],
   "source": [
    "a = np.array([[2,3],[5,6]])\n",
    "print(np.append(a,[8,9]))\n",
    "print(np.insert(a,1,50))\n",
    "print(np.insert(a,1,[50,60], axis = 0))"
   ]
  },
  {
   "cell_type": "code",
   "execution_count": 44,
   "id": "9fa92875-0ca5-44e4-9058-b33c9abfa8b0",
   "metadata": {},
   "outputs": [
    {
     "name": "stdout",
     "output_type": "stream",
     "text": [
      "[[2 3]\n",
      " [5 6]]\n",
      "\n",
      "[[2 3]]\n"
     ]
    }
   ],
   "source": [
    "a = np.array([[2,3],[5,6]])\n",
    "print(a)\n",
    "print()\n",
    "print(np.delete(a,1,axis = 0))"
   ]
  },
  {
   "cell_type": "code",
   "execution_count": 3,
   "id": "11fe7d39-e621-44ad-b04c-913ac8f422ba",
   "metadata": {},
   "outputs": [
    {
     "name": "stdout",
     "output_type": "stream",
     "text": [
      "16\n",
      "2\n",
      "6\n",
      "4\n",
      "4.0\n",
      "[ 2  5 10 16]\n",
      "[  2   6  30 180]\n"
     ]
    }
   ],
   "source": [
    "import numpy as np\n",
    "a = np.array([2,3,5,6])\n",
    "print(np.sum(a))\n",
    "print(np.min(a))\n",
    "print(np.max(a))\n",
    "print(np.size(a))\n",
    "print(np.mean(a))\n",
    "print(np.cumsum(a))\n",
    "print(np.cumprod(a))"
   ]
  },
  {
   "cell_type": "code",
   "execution_count": 11,
   "id": "68597b37-cf77-4018-8e96-34b7c9428ced",
   "metadata": {},
   "outputs": [
    {
     "name": "stdout",
     "output_type": "stream",
     "text": [
      "[100 150 199 200 250 130] \n",
      " [10 50 30 40 30 10]\n",
      "\n",
      "31270\n"
     ]
    }
   ],
   "source": [
    "price = np.array([100,150,199,200,250,130])\n",
    "qunatity = np.array([10,50,30,40,30,10])\n",
    "print(price,\"\\n\",qunatity)\n",
    "print()\n",
    "c = np.cumprod([price,qunatity],axis = 0)\n",
    "print(c[1].sum())"
   ]
  },
  {
   "cell_type": "code",
   "execution_count": 19,
   "id": "f67a5340-0da0-4f99-938c-9f03fe4bcfd6",
   "metadata": {},
   "outputs": [
    {
     "name": "stdout",
     "output_type": "stream",
     "text": [
      "163.16666666666666\n",
      "150.0\n",
      "150\n",
      "48.7524928137583\n",
      "2376.805555555555\n"
     ]
    }
   ],
   "source": [
    "import statistics as stats\n",
    "food = np.array([100,150,199,150,250,130])\n",
    "print(np.mean(food))\n",
    "print(np.median(food))\n",
    "print(stats.mode(food))\n",
    "print(np.std(food))\n",
    "print(np.var(food))"
   ]
  },
  {
   "cell_type": "code",
   "execution_count": 21,
   "id": "f27c9e00-8b52-4496-be6c-13b0bb983f3c",
   "metadata": {},
   "outputs": [
    {
     "name": "stdout",
     "output_type": "stream",
     "text": [
      "[[1.         0.99015454]\n",
      " [0.99015454 1.        ]]\n"
     ]
    }
   ],
   "source": [
    "tobacco_consumption = [30,50,10,30,50,40]\n",
    "deaths = [100,120,70,100,120,112]\n",
    "print(np.corrcoef([tobacco_consumption,deaths]))"
   ]
  },
  {
   "cell_type": "code",
   "execution_count": 24,
   "id": "be924df1-4f4b-423c-abf1-2669c0b8d04c",
   "metadata": {},
   "outputs": [
    {
     "name": "stdout",
     "output_type": "stream",
     "text": [
      "[[ 1.         -0.66621445]\n",
      " [-0.66621445  1.        ]]\n"
     ]
    }
   ],
   "source": [
    "prices = [300,100,350,150,200]\n",
    "sales = [10,20,7,17,3]\n",
    "print(np.corrcoef([prices,sales]))"
   ]
  }
 ],
 "metadata": {
  "kernelspec": {
   "display_name": "Python 3 (ipykernel)",
   "language": "python",
   "name": "python3"
  },
  "language_info": {
   "codemirror_mode": {
    "name": "ipython",
    "version": 3
   },
   "file_extension": ".py",
   "mimetype": "text/x-python",
   "name": "python",
   "nbconvert_exporter": "python",
   "pygments_lexer": "ipython3",
   "version": "3.12.7"
  }
 },
 "nbformat": 4,
 "nbformat_minor": 5
}

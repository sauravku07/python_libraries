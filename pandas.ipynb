{
 "cells": [
  {
   "cell_type": "code",
   "execution_count": 123,
   "id": "db907917-f58f-49dc-b34d-b3a6f236073f",
   "metadata": {},
   "outputs": [
    {
     "name": "stdout",
     "output_type": "stream",
     "text": [
      "    Name  Age  Salary\n",
      "0   John   25  300000\n",
      "1  Peter   28   45000\n",
      "2   Lisa   31   25000\n"
     ]
    }
   ],
   "source": [
    "import pandas as pd\n",
    "\n",
    "data = {\"Name\":[\"John\",\"Peter\",\"Lisa\"],\n",
    "        \"Age\":[25,28,31],\n",
    "        \"Salary\":[300000,45000,25000]}\n",
    "\n",
    "df = pd.DataFrame(data)\n",
    "print(df)"
   ]
  },
  {
   "cell_type": "code",
   "execution_count": 124,
   "id": "d6e52267-d3cd-4cbd-a360-eb4501750293",
   "metadata": {},
   "outputs": [
    {
     "name": "stdout",
     "output_type": "stream",
     "text": [
      "               hotel  is_canceled  lead_time  arrival_date_year  \\\n",
      "0       Resort Hotel            0        342               2015   \n",
      "1       Resort Hotel            0        737               2015   \n",
      "2       Resort Hotel            0          7               2015   \n",
      "3       Resort Hotel            0         13               2015   \n",
      "4       Resort Hotel            0         14               2015   \n",
      "...              ...          ...        ...                ...   \n",
      "119385    City Hotel            0         23               2017   \n",
      "119386    City Hotel            0        102               2017   \n",
      "119387    City Hotel            0         34               2017   \n",
      "119388    City Hotel            0        109               2017   \n",
      "119389    City Hotel            0        205               2017   \n",
      "\n",
      "       arrival_date_month  arrival_date_week_number  \\\n",
      "0                    July                        27   \n",
      "1                    July                        27   \n",
      "2                    July                        27   \n",
      "3                    July                        27   \n",
      "4                    July                        27   \n",
      "...                   ...                       ...   \n",
      "119385             August                        35   \n",
      "119386             August                        35   \n",
      "119387             August                        35   \n",
      "119388             August                        35   \n",
      "119389             August                        35   \n",
      "\n",
      "        arrival_date_day_of_month  stays_in_weekend_nights  \\\n",
      "0                               1                        0   \n",
      "1                               1                        0   \n",
      "2                               1                        0   \n",
      "3                               1                        0   \n",
      "4                               1                        0   \n",
      "...                           ...                      ...   \n",
      "119385                         30                        2   \n",
      "119386                         31                        2   \n",
      "119387                         31                        2   \n",
      "119388                         31                        2   \n",
      "119389                         29                        2   \n",
      "\n",
      "        stays_in_week_nights  adults  ...  deposit_type  agent company  \\\n",
      "0                          0       2  ...    No Deposit    NaN     NaN   \n",
      "1                          0       2  ...    No Deposit    NaN     NaN   \n",
      "2                          1       1  ...    No Deposit    NaN     NaN   \n",
      "3                          1       1  ...    No Deposit  304.0     NaN   \n",
      "4                          2       2  ...    No Deposit  240.0     NaN   \n",
      "...                      ...     ...  ...           ...    ...     ...   \n",
      "119385                     5       2  ...    No Deposit  394.0     NaN   \n",
      "119386                     5       3  ...    No Deposit    9.0     NaN   \n",
      "119387                     5       2  ...    No Deposit    9.0     NaN   \n",
      "119388                     5       2  ...    No Deposit   89.0     NaN   \n",
      "119389                     7       2  ...    No Deposit    9.0     NaN   \n",
      "\n",
      "       days_in_waiting_list customer_type     adr  \\\n",
      "0                         0     Transient    0.00   \n",
      "1                         0     Transient    0.00   \n",
      "2                         0     Transient   75.00   \n",
      "3                         0     Transient   75.00   \n",
      "4                         0     Transient   98.00   \n",
      "...                     ...           ...     ...   \n",
      "119385                    0     Transient   96.14   \n",
      "119386                    0     Transient  225.43   \n",
      "119387                    0     Transient  157.71   \n",
      "119388                    0     Transient  104.40   \n",
      "119389                    0     Transient  151.20   \n",
      "\n",
      "        required_car_parking_spaces  total_of_special_requests  \\\n",
      "0                                 0                          0   \n",
      "1                                 0                          0   \n",
      "2                                 0                          0   \n",
      "3                                 0                          0   \n",
      "4                                 0                          1   \n",
      "...                             ...                        ...   \n",
      "119385                            0                          0   \n",
      "119386                            0                          2   \n",
      "119387                            0                          4   \n",
      "119388                            0                          0   \n",
      "119389                            0                          2   \n",
      "\n",
      "        reservation_status reservation_status_date  \n",
      "0                Check-Out              2015-07-01  \n",
      "1                Check-Out              2015-07-01  \n",
      "2                Check-Out              2015-07-02  \n",
      "3                Check-Out              2015-07-02  \n",
      "4                Check-Out              2015-07-03  \n",
      "...                    ...                     ...  \n",
      "119385           Check-Out              2017-09-06  \n",
      "119386           Check-Out              2017-09-07  \n",
      "119387           Check-Out              2017-09-07  \n",
      "119388           Check-Out              2017-09-07  \n",
      "119389           Check-Out              2017-09-07  \n",
      "\n",
      "[119390 rows x 32 columns]\n"
     ]
    }
   ],
   "source": [
    "data = pd.read_csv(\"C:/Users/hp/Downloads/hotel_bookings.csv\")\n",
    "print(data)"
   ]
  },
  {
   "cell_type": "code",
   "execution_count": 125,
   "id": "943a2c4e-4d07-4689-b22b-7c2065722861",
   "metadata": {},
   "outputs": [
    {
     "name": "stdout",
     "output_type": "stream",
     "text": [
      "     Client ID              Name  Age     Sex  Location ID Joined Bank  \\\n",
      "2990  PKR19589       Jane Parker   49  Female        27490  1996-05-22   \n",
      "2991  PKR54576       Heather Day   70    Male         7006  2002-09-17   \n",
      "2992  PKR47226      Steven Welch   56    Male        14369  2017-04-17   \n",
      "2993  PKR33338       Samuel Carr   85    Male        21725  2007-11-08   \n",
      "2994  PKR24309   Daniel Marshall   52  Female         6198  1993-01-21   \n",
      "2995  PKR66827         Earl Hall   82  Female         8760  2014-10-09   \n",
      "2996  PKR40556  Billy Williamson   44  Female        32837  2009-02-05   \n",
      "2997  PKR72414      Victor Black   70  Female        36088  2009-12-29   \n",
      "2998  PKR46652       Andrew Ford   56  Female        24871  2006-02-13   \n",
      "2999  PKR40216        Amy Nguyen   79  Female        38518  2005-12-08   \n",
      "\n",
      "          Banking Contact Nationality                            Occupation  \\\n",
      "2990           Shawn Long       Asian                          Developer II   \n",
      "2991       Anthony Torres       Asian  Business Systems Development Analyst   \n",
      "2992        Samuel Fowler       Asian                     Financial Advisor   \n",
      "2993       James Castillo    American                   Software Consultant   \n",
      "2994          Paul Holmes    European                   Marketing Assistant   \n",
      "2995       Joshua Bennett    American              Accounting Assistant III   \n",
      "2996          Dennis Ruiz    European                             Paralegal   \n",
      "2997          Joshua Ryan    American                       Statistician IV   \n",
      "2998  Nicholas Cunningham    European         Human Resources Assistant III   \n",
      "2999           Joe Hanson    American                   Biostatistician III   \n",
      "\n",
      "     Investment Advisor  ... Amount of Credit Cards Credit Card Balance  \\\n",
      "2990      Carl Anderson  ...                      1           4241.5100   \n",
      "2991     Daniel Carroll  ...                      1            897.3900   \n",
      "2992   Lawrence Sanchez  ...                      1           5056.3590   \n",
      "2993       Sean Vasquez  ...                      1           5063.3100   \n",
      "2994      Ernest Knight  ...                      1           4327.9104   \n",
      "2995     Daniel Carroll  ...                      1            649.8540   \n",
      "2996     Peter Castillo  ...                      1           1639.0350   \n",
      "2997      Steve Sanchez  ...                      1           2352.8448   \n",
      "2998       Juan Ramirez  ...                      2           3578.6088   \n",
      "2999     Peter Castillo  ...                      1           1494.6876   \n",
      "\n",
      "       Bank Loans  Bank Deposits  Checking Accounts  Saving Accounts  \\\n",
      "2990  895255.9700   1.184494e+06      762894.128640    134911.803802   \n",
      "2991  308856.1320   2.038548e+05      254818.453500     73047.956670   \n",
      "2992  438838.1886   1.363870e+06      556681.708800    296896.911360   \n",
      "2993  518109.4800   9.511219e+05      260677.841220    301822.668050   \n",
      "2994  990326.1054   8.382616e+05      630618.820276     83057.112914   \n",
      "2995  223935.1380   1.089957e+06      532867.880160    657849.619325   \n",
      "2996  595902.0150   1.368913e+05       56581.744050     93195.608103   \n",
      "2997  880493.0256   2.148609e+05      158726.064384     35539.152952   \n",
      "2998  268625.0268   7.426302e+05      404638.261560     56411.334112   \n",
      "2999  285640.6572   6.561766e+04       77769.082368     32371.380536   \n",
      "\n",
      "      Foreign Currency Account  Business Lending  Properties Owned  \\\n",
      "2990                36303.5260      9.138633e+05                 3   \n",
      "2991                 7316.9460      3.739861e+05                 2   \n",
      "2992                50779.5477      6.570552e+05                 1   \n",
      "2993                 3154.9500      9.234595e+05                 3   \n",
      "2994                13537.0152      1.805960e+05                 3   \n",
      "2995                12947.3100      1.238860e+06                 1   \n",
      "2996                23205.6900      2.771711e+05                 1   \n",
      "2997                30291.8112      5.029472e+05                 2   \n",
      "2998                 6413.1444      1.538369e+06                 3   \n",
      "2999                 8992.3608      3.294125e+05                 1   \n",
      "\n",
      "      Risk Weighting  \n",
      "2990               2  \n",
      "2991               1  \n",
      "2992               2  \n",
      "2993               3  \n",
      "2994               5  \n",
      "2995               3  \n",
      "2996               2  \n",
      "2997               2  \n",
      "2998               1  \n",
      "2999               1  \n",
      "\n",
      "[10 rows x 25 columns]\n"
     ]
    }
   ],
   "source": [
    "data = pd.read_excel(\"C:/Users/hp/Downloads/Telegram Desktop/banking Data.xlsx\")\n",
    "#print(data)\n",
    "#print(data.head(10))\n",
    "print(data.tail(10))"
   ]
  },
  {
   "cell_type": "code",
   "execution_count": 126,
   "id": "72f0bfcf-f22c-4935-89a3-71817ec7503c",
   "metadata": {},
   "outputs": [
    {
     "name": "stdout",
     "output_type": "stream",
     "text": [
      "<class 'pandas.core.frame.DataFrame'>\n",
      "RangeIndex: 3000 entries, 0 to 2999\n",
      "Data columns (total 25 columns):\n",
      " #   Column                    Non-Null Count  Dtype         \n",
      "---  ------                    --------------  -----         \n",
      " 0   Client ID                 3000 non-null   object        \n",
      " 1   Name                      3000 non-null   object        \n",
      " 2   Age                       3000 non-null   int64         \n",
      " 3   Sex                       3000 non-null   object        \n",
      " 4   Location ID               3000 non-null   int64         \n",
      " 5   Joined Bank               3000 non-null   datetime64[ns]\n",
      " 6   Banking Contact           3000 non-null   object        \n",
      " 7   Nationality               3000 non-null   object        \n",
      " 8   Occupation                3000 non-null   object        \n",
      " 9   Investment Advisor        3000 non-null   object        \n",
      " 10  Fee Structure             3000 non-null   object        \n",
      " 11  Loyalty Classification    3000 non-null   object        \n",
      " 12  Banking Relationship      3000 non-null   object        \n",
      " 13  Estimated Income          3000 non-null   float64       \n",
      " 14  Superannuation Savings    3000 non-null   float64       \n",
      " 15  Amount of Credit Cards    3000 non-null   int64         \n",
      " 16  Credit Card Balance       3000 non-null   float64       \n",
      " 17  Bank Loans                3000 non-null   float64       \n",
      " 18  Bank Deposits             3000 non-null   float64       \n",
      " 19  Checking Accounts         3000 non-null   float64       \n",
      " 20  Saving Accounts           3000 non-null   float64       \n",
      " 21  Foreign Currency Account  3000 non-null   float64       \n",
      " 22  Business Lending          3000 non-null   float64       \n",
      " 23  Properties Owned          3000 non-null   int64         \n",
      " 24  Risk Weighting            3000 non-null   int64         \n",
      "dtypes: datetime64[ns](1), float64(9), int64(5), object(10)\n",
      "memory usage: 586.1+ KB\n",
      "None\n"
     ]
    }
   ],
   "source": [
    "print(data.info())"
   ]
  },
  {
   "cell_type": "code",
   "execution_count": 127,
   "id": "1ac62f52-39cb-4ba7-a431-9679e5cfc207",
   "metadata": {},
   "outputs": [
    {
     "data": {
      "text/html": [
       "<div>\n",
       "<style scoped>\n",
       "    .dataframe tbody tr th:only-of-type {\n",
       "        vertical-align: middle;\n",
       "    }\n",
       "\n",
       "    .dataframe tbody tr th {\n",
       "        vertical-align: top;\n",
       "    }\n",
       "\n",
       "    .dataframe thead th {\n",
       "        text-align: right;\n",
       "    }\n",
       "</style>\n",
       "<table border=\"1\" class=\"dataframe\">\n",
       "  <thead>\n",
       "    <tr style=\"text-align: right;\">\n",
       "      <th></th>\n",
       "      <th>Age</th>\n",
       "      <th>Location ID</th>\n",
       "      <th>Joined Bank</th>\n",
       "      <th>Estimated Income</th>\n",
       "      <th>Superannuation Savings</th>\n",
       "      <th>Amount of Credit Cards</th>\n",
       "      <th>Credit Card Balance</th>\n",
       "      <th>Bank Loans</th>\n",
       "      <th>Bank Deposits</th>\n",
       "      <th>Checking Accounts</th>\n",
       "      <th>Saving Accounts</th>\n",
       "      <th>Foreign Currency Account</th>\n",
       "      <th>Business Lending</th>\n",
       "      <th>Properties Owned</th>\n",
       "      <th>Risk Weighting</th>\n",
       "    </tr>\n",
       "  </thead>\n",
       "  <tbody>\n",
       "    <tr>\n",
       "      <th>count</th>\n",
       "      <td>3000.000000</td>\n",
       "      <td>3000.000000</td>\n",
       "      <td>3000</td>\n",
       "      <td>3000.000000</td>\n",
       "      <td>3000.000000</td>\n",
       "      <td>3000.000000</td>\n",
       "      <td>3000.000000</td>\n",
       "      <td>3.000000e+03</td>\n",
       "      <td>3.000000e+03</td>\n",
       "      <td>3.000000e+03</td>\n",
       "      <td>3.000000e+03</td>\n",
       "      <td>3000.000000</td>\n",
       "      <td>3.000000e+03</td>\n",
       "      <td>3000.000000</td>\n",
       "      <td>3000.000000</td>\n",
       "    </tr>\n",
       "    <tr>\n",
       "      <th>mean</th>\n",
       "      <td>51.039667</td>\n",
       "      <td>21563.323000</td>\n",
       "      <td>2006-01-27 22:29:45.600000128</td>\n",
       "      <td>171305.034094</td>\n",
       "      <td>25531.599673</td>\n",
       "      <td>1.463667</td>\n",
       "      <td>3176.206780</td>\n",
       "      <td>5.913862e+05</td>\n",
       "      <td>6.715602e+05</td>\n",
       "      <td>3.210929e+05</td>\n",
       "      <td>2.329084e+05</td>\n",
       "      <td>29883.529774</td>\n",
       "      <td>8.667598e+05</td>\n",
       "      <td>1.518667</td>\n",
       "      <td>2.249333</td>\n",
       "    </tr>\n",
       "    <tr>\n",
       "      <th>min</th>\n",
       "      <td>17.000000</td>\n",
       "      <td>12.000000</td>\n",
       "      <td>1992-05-23 00:00:00</td>\n",
       "      <td>15919.475400</td>\n",
       "      <td>1482.030000</td>\n",
       "      <td>1.000000</td>\n",
       "      <td>1.174800</td>\n",
       "      <td>0.000000e+00</td>\n",
       "      <td>0.000000e+00</td>\n",
       "      <td>0.000000e+00</td>\n",
       "      <td>0.000000e+00</td>\n",
       "      <td>44.998400</td>\n",
       "      <td>0.000000e+00</td>\n",
       "      <td>0.000000</td>\n",
       "      <td>1.000000</td>\n",
       "    </tr>\n",
       "    <tr>\n",
       "      <th>25%</th>\n",
       "      <td>34.000000</td>\n",
       "      <td>10803.500000</td>\n",
       "      <td>1998-12-30 18:00:00</td>\n",
       "      <td>82906.594300</td>\n",
       "      <td>12513.775000</td>\n",
       "      <td>1.000000</td>\n",
       "      <td>1236.633525</td>\n",
       "      <td>2.396281e+05</td>\n",
       "      <td>2.044004e+05</td>\n",
       "      <td>1.199475e+05</td>\n",
       "      <td>7.479441e+04</td>\n",
       "      <td>11916.546400</td>\n",
       "      <td>3.748251e+05</td>\n",
       "      <td>1.000000</td>\n",
       "      <td>1.000000</td>\n",
       "    </tr>\n",
       "    <tr>\n",
       "      <th>50%</th>\n",
       "      <td>51.000000</td>\n",
       "      <td>21129.500000</td>\n",
       "      <td>2006-02-11 00:00:00</td>\n",
       "      <td>142313.479600</td>\n",
       "      <td>22357.355000</td>\n",
       "      <td>1.000000</td>\n",
       "      <td>2560.800750</td>\n",
       "      <td>4.797934e+05</td>\n",
       "      <td>4.633165e+05</td>\n",
       "      <td>2.428157e+05</td>\n",
       "      <td>1.640866e+05</td>\n",
       "      <td>24341.187200</td>\n",
       "      <td>7.113147e+05</td>\n",
       "      <td>2.000000</td>\n",
       "      <td>2.000000</td>\n",
       "    </tr>\n",
       "    <tr>\n",
       "      <th>75%</th>\n",
       "      <td>69.000000</td>\n",
       "      <td>32054.500000</td>\n",
       "      <td>2013-03-06 00:00:00</td>\n",
       "      <td>242290.306650</td>\n",
       "      <td>35464.740000</td>\n",
       "      <td>2.000000</td>\n",
       "      <td>4522.633050</td>\n",
       "      <td>8.258130e+05</td>\n",
       "      <td>9.427546e+05</td>\n",
       "      <td>4.348749e+05</td>\n",
       "      <td>3.155750e+05</td>\n",
       "      <td>41966.390700</td>\n",
       "      <td>1.185110e+06</td>\n",
       "      <td>2.000000</td>\n",
       "      <td>3.000000</td>\n",
       "    </tr>\n",
       "    <tr>\n",
       "      <th>max</th>\n",
       "      <td>85.000000</td>\n",
       "      <td>43369.000000</td>\n",
       "      <td>2019-09-12 00:00:00</td>\n",
       "      <td>522330.259200</td>\n",
       "      <td>75963.900000</td>\n",
       "      <td>3.000000</td>\n",
       "      <td>13991.994000</td>\n",
       "      <td>2.667557e+06</td>\n",
       "      <td>3.890598e+06</td>\n",
       "      <td>1.969923e+06</td>\n",
       "      <td>1.724118e+06</td>\n",
       "      <td>124704.866000</td>\n",
       "      <td>3.825962e+06</td>\n",
       "      <td>3.000000</td>\n",
       "      <td>5.000000</td>\n",
       "    </tr>\n",
       "    <tr>\n",
       "      <th>std</th>\n",
       "      <td>19.854760</td>\n",
       "      <td>12462.273017</td>\n",
       "      <td>NaN</td>\n",
       "      <td>111935.808260</td>\n",
       "      <td>16259.950770</td>\n",
       "      <td>0.676387</td>\n",
       "      <td>2497.094724</td>\n",
       "      <td>4.575570e+05</td>\n",
       "      <td>6.457169e+05</td>\n",
       "      <td>2.820796e+05</td>\n",
       "      <td>2.300078e+05</td>\n",
       "      <td>23109.924007</td>\n",
       "      <td>6.412303e+05</td>\n",
       "      <td>1.102145</td>\n",
       "      <td>1.131191</td>\n",
       "    </tr>\n",
       "  </tbody>\n",
       "</table>\n",
       "</div>"
      ],
      "text/plain": [
       "               Age   Location ID                    Joined Bank  \\\n",
       "count  3000.000000   3000.000000                           3000   \n",
       "mean     51.039667  21563.323000  2006-01-27 22:29:45.600000128   \n",
       "min      17.000000     12.000000            1992-05-23 00:00:00   \n",
       "25%      34.000000  10803.500000            1998-12-30 18:00:00   \n",
       "50%      51.000000  21129.500000            2006-02-11 00:00:00   \n",
       "75%      69.000000  32054.500000            2013-03-06 00:00:00   \n",
       "max      85.000000  43369.000000            2019-09-12 00:00:00   \n",
       "std      19.854760  12462.273017                            NaN   \n",
       "\n",
       "       Estimated Income  Superannuation Savings  Amount of Credit Cards  \\\n",
       "count       3000.000000             3000.000000             3000.000000   \n",
       "mean      171305.034094            25531.599673                1.463667   \n",
       "min        15919.475400             1482.030000                1.000000   \n",
       "25%        82906.594300            12513.775000                1.000000   \n",
       "50%       142313.479600            22357.355000                1.000000   \n",
       "75%       242290.306650            35464.740000                2.000000   \n",
       "max       522330.259200            75963.900000                3.000000   \n",
       "std       111935.808260            16259.950770                0.676387   \n",
       "\n",
       "       Credit Card Balance    Bank Loans  Bank Deposits  Checking Accounts  \\\n",
       "count          3000.000000  3.000000e+03   3.000000e+03       3.000000e+03   \n",
       "mean           3176.206780  5.913862e+05   6.715602e+05       3.210929e+05   \n",
       "min               1.174800  0.000000e+00   0.000000e+00       0.000000e+00   \n",
       "25%            1236.633525  2.396281e+05   2.044004e+05       1.199475e+05   \n",
       "50%            2560.800750  4.797934e+05   4.633165e+05       2.428157e+05   \n",
       "75%            4522.633050  8.258130e+05   9.427546e+05       4.348749e+05   \n",
       "max           13991.994000  2.667557e+06   3.890598e+06       1.969923e+06   \n",
       "std            2497.094724  4.575570e+05   6.457169e+05       2.820796e+05   \n",
       "\n",
       "       Saving Accounts  Foreign Currency Account  Business Lending  \\\n",
       "count     3.000000e+03               3000.000000      3.000000e+03   \n",
       "mean      2.329084e+05              29883.529774      8.667598e+05   \n",
       "min       0.000000e+00                 44.998400      0.000000e+00   \n",
       "25%       7.479441e+04              11916.546400      3.748251e+05   \n",
       "50%       1.640866e+05              24341.187200      7.113147e+05   \n",
       "75%       3.155750e+05              41966.390700      1.185110e+06   \n",
       "max       1.724118e+06             124704.866000      3.825962e+06   \n",
       "std       2.300078e+05              23109.924007      6.412303e+05   \n",
       "\n",
       "       Properties Owned  Risk Weighting  \n",
       "count       3000.000000     3000.000000  \n",
       "mean           1.518667        2.249333  \n",
       "min            0.000000        1.000000  \n",
       "25%            1.000000        1.000000  \n",
       "50%            2.000000        2.000000  \n",
       "75%            2.000000        3.000000  \n",
       "max            3.000000        5.000000  \n",
       "std            1.102145        1.131191  "
      ]
     },
     "execution_count": 127,
     "metadata": {},
     "output_type": "execute_result"
    }
   ],
   "source": [
    "data.describe()"
   ]
  },
  {
   "cell_type": "code",
   "execution_count": 128,
   "id": "268a8fc6-2d68-4271-bca7-940605c920d1",
   "metadata": {},
   "outputs": [
    {
     "name": "stdout",
     "output_type": "stream",
     "text": [
      "Client ID                   0\n",
      "Name                        0\n",
      "Age                         0\n",
      "Sex                         0\n",
      "Location ID                 0\n",
      "Joined Bank                 0\n",
      "Banking Contact             0\n",
      "Nationality                 0\n",
      "Occupation                  0\n",
      "Investment Advisor          0\n",
      "Fee Structure               0\n",
      "Loyalty Classification      0\n",
      "Banking Relationship        0\n",
      "Estimated Income            0\n",
      "Superannuation Savings      0\n",
      "Amount of Credit Cards      0\n",
      "Credit Card Balance         0\n",
      "Bank Loans                  0\n",
      "Bank Deposits               0\n",
      "Checking Accounts           0\n",
      "Saving Accounts             0\n",
      "Foreign Currency Account    0\n",
      "Business Lending            0\n",
      "Properties Owned            0\n",
      "Risk Weighting              0\n",
      "dtype: int64\n"
     ]
    }
   ],
   "source": [
    "print(data.isnull().sum())"
   ]
  },
  {
   "cell_type": "code",
   "execution_count": 129,
   "id": "f09c0f86-5ba4-4a58-8afe-f594c246a687",
   "metadata": {},
   "outputs": [
    {
     "name": "stdout",
     "output_type": "stream",
     "text": [
      "    EEID      Name gender   salary\n",
      "0  EMP01    ayushi      F      NaN\n",
      "1  EMP02     rohit      M  25000.0\n",
      "2  EMP03  pranjali    NaN  27000.0\n",
      "3  EMP01    ayushi      F  20000.0\n",
      "4  EMP05       NaN      M  25000.0\n",
      "5  EMP06     rohit      M      NaN\n",
      "6  EMP02     rohit      M  25000.0\n",
      "24400.0\n"
     ]
    }
   ],
   "source": [
    "import pandas as pd\n",
    "data = pd.read_csv(\"D:/company1.csv\")\n",
    "print(data)\n",
    "print(data[\"salary\"].mean())"
   ]
  },
  {
   "cell_type": "code",
   "execution_count": 130,
   "id": "fa4ab4af-3c11-4523-8aed-71caf5c9bee9",
   "metadata": {},
   "outputs": [
    {
     "name": "stdout",
     "output_type": "stream",
     "text": [
      "0    False\n",
      "1    False\n",
      "2    False\n",
      "3    False\n",
      "4    False\n",
      "5    False\n",
      "6     True\n",
      "dtype: bool\n"
     ]
    }
   ],
   "source": [
    "print(data.duplicated())"
   ]
  },
  {
   "cell_type": "code",
   "execution_count": 131,
   "id": "73ea0c3d-ede9-464c-a714-114e1f769b12",
   "metadata": {},
   "outputs": [
    {
     "name": "stdout",
     "output_type": "stream",
     "text": [
      "2\n"
     ]
    }
   ],
   "source": [
    "print(data[\"EEID\"].duplicated().sum())"
   ]
  },
  {
   "cell_type": "code",
   "execution_count": 132,
   "id": "faf083c7-f2a6-4549-9a49-234d82c7c9be",
   "metadata": {},
   "outputs": [
    {
     "name": "stdout",
     "output_type": "stream",
     "text": [
      "    EEID      Name gender   salary\n",
      "0  EMP01    ayushi      F      NaN\n",
      "1  EMP02     rohit      M  25000.0\n",
      "2  EMP03  pranjali    NaN  27000.0\n",
      "4  EMP05       NaN      M  25000.0\n",
      "5  EMP06     rohit      M      NaN\n"
     ]
    }
   ],
   "source": [
    "print(data.drop_duplicates(\"EEID\"))"
   ]
  },
  {
   "cell_type": "code",
   "execution_count": 133,
   "id": "58ac2824-e180-4d34-be51-3d2147186e98",
   "metadata": {},
   "outputs": [
    {
     "name": "stdout",
     "output_type": "stream",
     "text": [
      "EEID      0\n",
      "Name      1\n",
      "gender    1\n",
      "salary    2\n",
      "dtype: int64\n"
     ]
    }
   ],
   "source": [
    "print(data.isnull().sum())"
   ]
  },
  {
   "cell_type": "code",
   "execution_count": 134,
   "id": "dec99113-655b-4560-b3b8-1993ae947158",
   "metadata": {},
   "outputs": [
    {
     "name": "stdout",
     "output_type": "stream",
     "text": [
      "    EEID    Name gender   salary\n",
      "1  EMP02   rohit      M  25000.0\n",
      "3  EMP01  ayushi      F  20000.0\n",
      "6  EMP02   rohit      M  25000.0\n"
     ]
    }
   ],
   "source": [
    "print(data.dropna())"
   ]
  },
  {
   "cell_type": "code",
   "execution_count": 135,
   "id": "2639948b-c01e-4422-8eef-5a5098d2fcf0",
   "metadata": {},
   "outputs": [
    {
     "name": "stdout",
     "output_type": "stream",
     "text": [
      "    EEID      Name gender   salary\n",
      "0  EMP01    ayushi      F  30000.0\n",
      "1  EMP02     rohit      M  25000.0\n",
      "2  EMP03  pranjali  30000  27000.0\n",
      "3  EMP01    ayushi      F  20000.0\n",
      "4  EMP05     30000      M  25000.0\n",
      "5  EMP06     rohit      M  30000.0\n",
      "6  EMP02     rohit      M  25000.0\n"
     ]
    }
   ],
   "source": [
    "import numpy as np\n",
    "print(data.replace(np.nan,30000))"
   ]
  },
  {
   "cell_type": "code",
   "execution_count": 136,
   "id": "878c3fe6-20ce-46c9-961b-d3bdfc1711d8",
   "metadata": {},
   "outputs": [
    {
     "name": "stdout",
     "output_type": "stream",
     "text": [
      "    EEID      Name gender   salary\n",
      "0  EMP01    ayushi      F  24400.0\n",
      "1  EMP02     rohit      M  25000.0\n",
      "2  EMP03  pranjali    NaN  27000.0\n",
      "3  EMP01    ayushi      F  20000.0\n",
      "4  EMP05       NaN      M  25000.0\n",
      "5  EMP06     rohit      M  24400.0\n",
      "6  EMP02     rohit      M  25000.0\n",
      "24400.0\n"
     ]
    }
   ],
   "source": [
    "data[\"salary\"] = data[\"salary\"].replace(np.nan,24400)\n",
    "print(data)\n",
    "print(data[\"salary\"].mean())"
   ]
  },
  {
   "cell_type": "code",
   "execution_count": 137,
   "id": "406ebb2a-9885-4550-af10-870454ef46d2",
   "metadata": {},
   "outputs": [
    {
     "name": "stdout",
     "output_type": "stream",
     "text": [
      "    EEID      Name gender   salary\n",
      "0  EMP01    ayushi      F  24400.0\n",
      "1  EMP02     rohit      M  25000.0\n",
      "2  EMP03  pranjali    NaN  27000.0\n",
      "3  EMP01    ayushi      F  20000.0\n",
      "4  EMP05       NaN      M  25000.0\n",
      "5  EMP06     rohit      M  24400.0\n",
      "6  EMP02     rohit      M  25000.0\n"
     ]
    }
   ],
   "source": [
    "print(data)"
   ]
  },
  {
   "cell_type": "code",
   "execution_count": 138,
   "id": "c4bd7750-1c59-4b5c-a650-0aff13f4bbb2",
   "metadata": {},
   "outputs": [
    {
     "name": "stdout",
     "output_type": "stream",
     "text": [
      "    EEID      Name gender   salary\n",
      "0  EMP01    ayushi      F      NaN\n",
      "1  EMP02     rohit      M  25000.0\n",
      "2  EMP03  pranjali    NaN  27000.0\n",
      "3  EMP01    ayushi      F  20000.0\n",
      "4  EMP05       NaN      M  25000.0\n",
      "5  EMP06     rohit      M      NaN\n",
      "6  EMP02     rohit      M  25000.0\n"
     ]
    }
   ],
   "source": [
    "data = pd.read_csv(\"D:/company1.csv\")\n",
    "print(data)"
   ]
  },
  {
   "cell_type": "code",
   "execution_count": 139,
   "id": "b8b8cddb-ac73-4905-8d7b-c542a70e6b16",
   "metadata": {},
   "outputs": [
    {
     "name": "stdout",
     "output_type": "stream",
     "text": [
      "    EEID      Name gender   salary\n",
      "0  EMP01    ayushi      F      NaN\n",
      "1  EMP02     rohit      M  25000.0\n",
      "2  EMP03  pranjali      M  27000.0\n",
      "3  EMP01    ayushi      F  20000.0\n",
      "4  EMP05    ayushi      M  25000.0\n",
      "5  EMP06     rohit      M  25000.0\n",
      "6  EMP02     rohit      M  25000.0\n"
     ]
    },
    {
     "name": "stderr",
     "output_type": "stream",
     "text": [
      "C:\\Users\\hp\\AppData\\Local\\Temp\\ipykernel_9764\\1391920301.py:1: FutureWarning: DataFrame.fillna with 'method' is deprecated and will raise in a future version. Use obj.ffill() or obj.bfill() instead.\n",
      "  print(data.fillna(method = \"ffill\"))\n"
     ]
    }
   ],
   "source": [
    "print(data.fillna(method = \"ffill\"))"
   ]
  },
  {
   "cell_type": "code",
   "execution_count": 140,
   "id": "916cdbfb-fca1-484a-836b-87dd88280f3e",
   "metadata": {},
   "outputs": [
    {
     "name": "stdout",
     "output_type": "stream",
     "text": [
      "    EEID      Name gender   salary\n",
      "0  EMP01    ayushi      F  25000.0\n",
      "1  EMP02     rohit      M  25000.0\n",
      "2  EMP03  pranjali      F  27000.0\n",
      "3  EMP01    ayushi      F  20000.0\n",
      "4  EMP05     rohit      M  25000.0\n",
      "5  EMP06     rohit      M  25000.0\n",
      "6  EMP02     rohit      M  25000.0\n"
     ]
    },
    {
     "name": "stderr",
     "output_type": "stream",
     "text": [
      "C:\\Users\\hp\\AppData\\Local\\Temp\\ipykernel_9764\\2754045057.py:1: FutureWarning: DataFrame.fillna with 'method' is deprecated and will raise in a future version. Use obj.ffill() or obj.bfill() instead.\n",
      "  print(data.fillna(method = \"bfill\"))\n"
     ]
    }
   ],
   "source": [
    "print(data.fillna(method = \"bfill\"))"
   ]
  },
  {
   "cell_type": "code",
   "execution_count": 141,
   "id": "821a06c0-40db-464d-bcaf-4e3988cedd6c",
   "metadata": {},
   "outputs": [
    {
     "name": "stdout",
     "output_type": "stream",
     "text": [
      "    EEID      Name gender   salary\n",
      "0  EMP01    ayushi      F       hi\n",
      "1  EMP02     rohit      M  25000.0\n",
      "2  EMP03  pranjali     hi  27000.0\n",
      "3  EMP01    ayushi      F  20000.0\n",
      "4  EMP05        hi      M  25000.0\n",
      "5  EMP06     rohit      M       hi\n",
      "6  EMP02     rohit      M  25000.0\n"
     ]
    }
   ],
   "source": [
    "print(data.fillna(\"hi\"))"
   ]
  },
  {
   "cell_type": "code",
   "execution_count": 142,
   "id": "27695642-2bce-4b97-b5da-bf2724216d7b",
   "metadata": {},
   "outputs": [
    {
     "name": "stdout",
     "output_type": "stream",
     "text": [
      "       EEID        Full Name                 Job Title  Department  \\\n",
      "0    E02387      Emily Davis                Sr. Manger          IT   \n",
      "1    E04105    Theodore Dinh       Technical Architect          IT   \n",
      "2    E02572     Luna Sanders                  Director     Finance   \n",
      "3    E02832  Penelope Jordan  Computer Systems Manager          IT   \n",
      "4    E01639        Austin Vo               Sr. Analyst     Finance   \n",
      "..      ...              ...                       ...         ...   \n",
      "995  E03094     Wesley Young               Sr. Analyst   Marketing   \n",
      "996  E01909     Lillian Khan                   Analyst     Finance   \n",
      "997  E04398      Oliver Yang                  Director   Marketing   \n",
      "998  E02521      Lily Nguyen               Sr. Analyst     Finance   \n",
      "999  E03545      Sofia Cheng            Vice President  Accounting   \n",
      "\n",
      "              Business Unit  Gender  Ethnicity  Age  Hire Date  Annual Salary  \\\n",
      "0    Research & Development  Female      Black   55 2016-04-08         141604   \n",
      "1             Manufacturing    Male      Asian   59 1997-11-29          99975   \n",
      "2       Speciality Products  Female  Caucasian   50 2006-10-26         163099   \n",
      "3             Manufacturing  Female  Caucasian   26 2019-09-27          84913   \n",
      "4             Manufacturing    Male      Asian   55 1995-11-20          95409   \n",
      "..                      ...     ...        ...  ...        ...            ...   \n",
      "995     Speciality Products    Male  Caucasian   33 2016-09-18          98427   \n",
      "996     Speciality Products  Female      Asian   44 2010-05-31          47387   \n",
      "997     Speciality Products    Male      Asian   31 2019-06-10         176710   \n",
      "998     Speciality Products  Female      Asian   33 2012-01-28          95960   \n",
      "999               Corporate  Female      Asian   63 2020-07-26         216195   \n",
      "\n",
      "     Bonus %        Country       City  Exit Date  GetBonus  \n",
      "0       0.15  United States    Seattle 2021-10-16     bonus  \n",
      "1       0.00          China  Chongqing        NaT  no bonus  \n",
      "2       0.20  United States    Chicago        NaT     bonus  \n",
      "3       0.07  United States    Chicago        NaT     bonus  \n",
      "4       0.00  United States    Phoenix        NaT  no bonus  \n",
      "..       ...            ...        ...        ...       ...  \n",
      "995     0.00  United States   Columbus        NaT  no bonus  \n",
      "996     0.00          China    Chengdu 2018-01-08  no bonus  \n",
      "997     0.15  United States      Miami        NaT     bonus  \n",
      "998     0.00          China    Chengdu        NaT  no bonus  \n",
      "999     0.31  United States      Miami        NaT     bonus  \n",
      "\n",
      "[1000 rows x 15 columns]\n"
     ]
    }
   ],
   "source": [
    "df = pd.read_excel(\"D:/ESD.xlsx\")\n",
    "#print(data)\n",
    "df.loc[(df[\"Bonus %\"] == 0), \"GetBonus\"] = \"no bonus\"\n",
    "df.loc[(df[\"Bonus %\"] > 0), \"GetBonus\"] = \"bonus\"\n",
    "print(df)\n",
    "\n",
    "\n"
   ]
  },
  {
   "cell_type": "code",
   "execution_count": 143,
   "id": "5627f818-9c21-4245-a4b6-2ff7bbbf2832",
   "metadata": {},
   "outputs": [
    {
     "name": "stdout",
     "output_type": "stream",
     "text": [
      "     EEID        Full Name                 Job Title  Department  \\\n",
      "0  E02387      Emily Davis                Sr. Manger          IT   \n",
      "1  E04105    Theodore Dinh       Technical Architect          IT   \n",
      "2  E02572     Luna Sanders                  Director     Finance   \n",
      "3  E02832  Penelope Jordan  Computer Systems Manager          IT   \n",
      "4  E01639        Austin Vo               Sr. Analyst     Finance   \n",
      "5  E00644     Joshua Gupta    Account Representative       Sales   \n",
      "6  E01550      Ruby Barnes                   Manager          IT   \n",
      "7  E04332      Luke Martin                   Analyst     Finance   \n",
      "8  E04533    Easton Bailey                   Manager  Accounting   \n",
      "9  E03838  Madeline Walker               Sr. Analyst     Finance   \n",
      "\n",
      "            Business Unit  Gender  Ethnicity  Age  Hire Date  Annual Salary  \\\n",
      "0  Research & Development  Female      Black   55 2016-04-08         141604   \n",
      "1           Manufacturing    Male      Asian   59 1997-11-29          99975   \n",
      "2     Speciality Products  Female  Caucasian   50 2006-10-26         163099   \n",
      "3           Manufacturing  Female  Caucasian   26 2019-09-27          84913   \n",
      "4           Manufacturing    Male      Asian   55 1995-11-20          95409   \n",
      "5               Corporate    Male      Asian   57 2017-01-24          50994   \n",
      "6               Corporate  Female  Caucasian   27 2020-07-01         119746   \n",
      "7           Manufacturing    Male      Black   25 2020-05-16          41336   \n",
      "8           Manufacturing    Male  Caucasian   29 2019-01-25         113527   \n",
      "9     Speciality Products  Female  Caucasian   34 2018-06-13          77203   \n",
      "\n",
      "   Bonus %        Country       City  Exit Date    Bonus  \n",
      "0     0.15  United States    Seattle 2021-10-16  28320.8  \n",
      "1     0.00          China  Chongqing        NaT  19995.0  \n",
      "2     0.20  United States    Chicago        NaT  32619.8  \n",
      "3     0.07  United States    Chicago        NaT  16982.6  \n",
      "4     0.00  United States    Phoenix        NaT  19081.8  \n",
      "5     0.00          China  Chongqing        NaT  10198.8  \n",
      "6     0.10  United States    Phoenix        NaT  23949.2  \n",
      "7     0.00  United States      Miami 2021-05-20   8267.2  \n",
      "8     0.06  United States     Austin        NaT  22705.4  \n",
      "9     0.00  United States    Chicago        NaT  15440.6  \n"
     ]
    }
   ],
   "source": [
    "data = pd.read_excel(\"D:/ESD.xlsx\")\n",
    "#print(data)\n",
    "data[\"Bonus\"] = (data[\"Annual Salary\"]/100)*20\n",
    "print(data.head(10))"
   ]
  },
  {
   "cell_type": "code",
   "execution_count": 144,
   "id": "d771789c-299e-425f-b5ff-bbf6d9c66eac",
   "metadata": {},
   "outputs": [
    {
     "name": "stdout",
     "output_type": "stream",
     "text": [
      "     Months\n",
      "0   January\n",
      "1  February\n",
      "2     March\n",
      "3     April\n",
      "     Months Short_months\n",
      "0   January          Jan\n",
      "1  February          Feb\n",
      "2     March          Mar\n",
      "3     April          Apr\n"
     ]
    }
   ],
   "source": [
    "data = {\"Months\":[\"January\",\"February\",\"March\",\"April\"]}\n",
    "a = pd.DataFrame(data)\n",
    "print(a)\n",
    "\n",
    "def extract(value):\n",
    "    return value[0:3]\n",
    "    \n",
    "a[\"Short_months\"] = a[\"Months\"].map(extract)\n",
    "print(a)"
   ]
  },
  {
   "cell_type": "code",
   "execution_count": 145,
   "id": "cb679487-7a58-41cc-8fca-634e24df17b7",
   "metadata": {},
   "outputs": [
    {
     "name": "stdout",
     "output_type": "stream",
     "text": [
      "     EEID        Full Name                 Job Title  Department  \\\n",
      "0  E02387      Emily Davis                Sr. Manger          IT   \n",
      "1  E04105    Theodore Dinh       Technical Architect          IT   \n",
      "2  E02572     Luna Sanders                  Director     Finance   \n",
      "3  E02832  Penelope Jordan  Computer Systems Manager          IT   \n",
      "4  E01639        Austin Vo               Sr. Analyst     Finance   \n",
      "5  E00644     Joshua Gupta    Account Representative       Sales   \n",
      "6  E01550      Ruby Barnes                   Manager          IT   \n",
      "7  E04332      Luke Martin                   Analyst     Finance   \n",
      "8  E04533    Easton Bailey                   Manager  Accounting   \n",
      "9  E03838  Madeline Walker               Sr. Analyst     Finance   \n",
      "\n",
      "            Business Unit  Gender  Ethnicity  Age  Hire Date  Annual Salary  \\\n",
      "0  Research & Development  Female      Black   55 2016-04-08         141604   \n",
      "1           Manufacturing    Male      Asian   59 1997-11-29          99975   \n",
      "2     Speciality Products  Female  Caucasian   50 2006-10-26         163099   \n",
      "3           Manufacturing  Female  Caucasian   26 2019-09-27          84913   \n",
      "4           Manufacturing    Male      Asian   55 1995-11-20          95409   \n",
      "5               Corporate    Male      Asian   57 2017-01-24          50994   \n",
      "6               Corporate  Female  Caucasian   27 2020-07-01         119746   \n",
      "7           Manufacturing    Male      Black   25 2020-05-16          41336   \n",
      "8           Manufacturing    Male  Caucasian   29 2019-01-25         113527   \n",
      "9     Speciality Products  Female  Caucasian   34 2018-06-13          77203   \n",
      "\n",
      "   Bonus %        Country       City  Exit Date  \n",
      "0     0.15  United States    Seattle 2021-10-16  \n",
      "1     0.00          China  Chongqing        NaT  \n",
      "2     0.20  United States    Chicago        NaT  \n",
      "3     0.07  United States    Chicago        NaT  \n",
      "4     0.00  United States    Phoenix        NaT  \n",
      "5     0.00          China  Chongqing        NaT  \n",
      "6     0.10  United States    Phoenix        NaT  \n",
      "7     0.00  United States      Miami 2021-05-20  \n",
      "8     0.06  United States     Austin        NaT  \n",
      "9     0.00  United States    Chicago        NaT  \n"
     ]
    }
   ],
   "source": [
    "data = pd.read_excel(\"D:/ESD.xlsx\")\n",
    "print(data.head(10))"
   ]
  },
  {
   "cell_type": "code",
   "execution_count": 146,
   "id": "4652113c-a173-4d55-a065-b1c096648b91",
   "metadata": {},
   "outputs": [
    {
     "name": "stdout",
     "output_type": "stream",
     "text": [
      "                        EEID\n",
      "Department      Gender      \n",
      "Accounting      Female    53\n",
      "                Male      43\n",
      "Engineering     Female    80\n",
      "                Male      78\n",
      "Finance         Female    69\n",
      "                Male      51\n",
      "Human Resources Female    64\n",
      "                Male      61\n",
      "IT              Female   119\n",
      "                Male     122\n",
      "Marketing       Female    57\n",
      "                Male      63\n",
      "Sales           Female    76\n",
      "                Male      64\n"
     ]
    }
   ],
   "source": [
    "gp = data.groupby([\"Department\",\"Gender\"]).agg({\"EEID\":\"count\"})\n",
    "print(gp)"
   ]
  },
  {
   "cell_type": "code",
   "execution_count": 147,
   "id": "1ea7227e-d392-4189-bf1a-f3e6e57d7c29",
   "metadata": {},
   "outputs": [
    {
     "name": "stdout",
     "output_type": "stream",
     "text": [
      "               Annual Salary\n",
      "Country                     \n",
      "Brazil                258426\n",
      "China                 257194\n",
      "United States         258498\n"
     ]
    }
   ],
   "source": [
    "gp1 = data.groupby(\"Country\").agg({\"Annual Salary\":\"max\"})\n",
    "print(gp1)"
   ]
  },
  {
   "cell_type": "code",
   "execution_count": 148,
   "id": "e20481e2-e8db-4a5b-8033-5e82fc34b46b",
   "metadata": {},
   "outputs": [
    {
     "name": "stdout",
     "output_type": "stream",
     "text": [
      "                     Age\n",
      "Country                 \n",
      "Brazil         43.654676\n",
      "China          45.389908\n",
      "United States  44.197512\n"
     ]
    }
   ],
   "source": [
    "gp1 = data.groupby(\"Country\").agg({\"Age\":\"mean\"})\n",
    "print(gp1)"
   ]
  },
  {
   "cell_type": "code",
   "execution_count": 149,
   "id": "d128000c-8255-49de-af30-b4c1a533782f",
   "metadata": {},
   "outputs": [
    {
     "name": "stdout",
     "output_type": "stream",
     "text": [
      "                      Annual Salary  Age\n",
      "Country       Gender                    \n",
      "Brazil        Female         258426   65\n",
      "              Male           249506   65\n",
      "China         Female         249686   65\n",
      "              Male           257194   65\n",
      "United States Female         258498   65\n",
      "              Male           258081   65\n"
     ]
    }
   ],
   "source": [
    "gp1 = data.groupby([\"Country\",\"Gender\"]).agg({\"Annual Salary\":\"max\",\"Age\":\"max\"})\n",
    "print(gp1)"
   ]
  },
  {
   "cell_type": "code",
   "execution_count": 150,
   "id": "e9a41160-549d-4db2-8cc4-5c353ebedfc7",
   "metadata": {},
   "outputs": [
    {
     "name": "stdout",
     "output_type": "stream",
     "text": [
      "  Emp Id   Names  Age\n",
      "0    E01     Ram   34\n",
      "1    E02  Shayam   56\n",
      "2    E03   Rahul   23\n",
      "3    E04  Vishal   44\n",
      "4    E05    Ravi   32\n",
      "\n",
      "  Emp Id  Salary\n",
      "0    E01   34000\n",
      "1    E06   56000\n",
      "2    E03   23000\n",
      "3    E08   44000\n",
      "4    E05   32000\n"
     ]
    }
   ],
   "source": [
    "data1 = {\"Emp Id\" :[\"E01\",\"E02\",\"E03\",\"E04\",\"E05\"],\n",
    "         \"Names\" :[\"Ram\",\"Shayam\",\"Rahul\",\"Vishal\",\"Ravi\"],\n",
    "         \"Age\":[34,56,23,44,32]}\n",
    "data2 = {\"Emp Id\" :[\"E01\",\"E06\",\"E03\",\"E08\",\"E05\"],\n",
    "         \"Salary\":[34000,56000,23000,44000,32000]}\n",
    "df1 = pd.DataFrame(data1)\n",
    "df2 = pd.DataFrame(data2)\n",
    "print(df1)\n",
    "print()\n",
    "print(df2)"
   ]
  },
  {
   "cell_type": "code",
   "execution_count": 151,
   "id": "31366884-f1b2-4b58-80c2-4c985578ea5a",
   "metadata": {},
   "outputs": [
    {
     "name": "stdout",
     "output_type": "stream",
     "text": [
      "  Emp Id  Names  Age  Salary\n",
      "0    E01    Ram   34   34000\n",
      "1    E03  Rahul   23   23000\n",
      "2    E05   Ravi   32   32000\n"
     ]
    }
   ],
   "source": [
    "print(pd.merge(df1,df2,on = \"Emp Id\"))"
   ]
  },
  {
   "cell_type": "code",
   "execution_count": 152,
   "id": "77083b22-1d2c-428a-8b9c-d2ab786249db",
   "metadata": {},
   "outputs": [
    {
     "name": "stdout",
     "output_type": "stream",
     "text": [
      "  Emp Id  Names   Age  Salary\n",
      "0    E01    Ram  34.0   34000\n",
      "1    E06    NaN   NaN   56000\n",
      "2    E03  Rahul  23.0   23000\n",
      "3    E08    NaN   NaN   44000\n",
      "4    E05   Ravi  32.0   32000\n"
     ]
    }
   ],
   "source": [
    "print(pd.merge(df1,df2,on = \"Emp Id\",how=\"right\"))"
   ]
  },
  {
   "cell_type": "code",
   "execution_count": 153,
   "id": "e5e355b5",
   "metadata": {},
   "outputs": [
    {
     "name": "stdout",
     "output_type": "stream",
     "text": [
      "  Emp Id   Names  Age   Salary\n",
      "0    E01     Ram   34  34000.0\n",
      "1    E02  Shayam   56      NaN\n",
      "2    E03   Rahul   23  23000.0\n",
      "3    E04  Vishal   44      NaN\n",
      "4    E05    Ravi   32  32000.0\n"
     ]
    }
   ],
   "source": [
    "print(pd.merge(df1,df2,on = \"Emp Id\",how=\"left\"))"
   ]
  },
  {
   "cell_type": "code",
   "execution_count": 154,
   "id": "16abecdd-ecc9-48fb-864e-5e98b57760df",
   "metadata": {},
   "outputs": [
    {
     "name": "stdout",
     "output_type": "stream",
     "text": [
      "  Emp Id Names  Age\n",
      "0    E06  Rama   34\n",
      "1    E07   Sha   56\n",
      "2    E08  Rahl   23\n",
      "3    E09  isha   44\n",
      "4    E10  kavi   32\n",
      "\n",
      "  Emp Id   Names  Age\n",
      "0    E01     Ram   34\n",
      "1    E02  Shayam   56\n",
      "2    E03   Rahul   23\n",
      "3    E04  Vishal   44\n",
      "4    E05    Ravi   32\n"
     ]
    }
   ],
   "source": [
    "data1 = {\"Emp Id\" :[\"E06\",\"E07\",\"E08\",\"E09\",\"E10\"],\n",
    "         \"Names\" :[\"Rama\",\"Sha\",\"Rahl\",\"isha\",\"kavi\"],\n",
    "         \"Age\":[34,56,23,44,32]}\n",
    "data2 = {\"Emp Id\" :[\"E01\",\"E02\",\"E03\",\"E04\",\"E05\"],\n",
    "         \"Names\" :[\"Ram\",\"Shayam\",\"Rahul\",\"Vishal\",\"Ravi\"],\n",
    "         \"Age\":[34,56,23,44,32]}\n",
    "df1 = pd.DataFrame(data1)\n",
    "df2 = pd.DataFrame(data2)\n",
    "print(df1)\n",
    "print()\n",
    "print(df2)"
   ]
  },
  {
   "cell_type": "code",
   "execution_count": 155,
   "id": "2ebfbca7-dc13-44f8-8548-c5cacc380da4",
   "metadata": {},
   "outputs": [
    {
     "name": "stdout",
     "output_type": "stream",
     "text": [
      "  Emp Id   Names  Age\n",
      "0    E06    Rama   34\n",
      "1    E07     Sha   56\n",
      "2    E08    Rahl   23\n",
      "3    E09    isha   44\n",
      "4    E10    kavi   32\n",
      "0    E01     Ram   34\n",
      "1    E02  Shayam   56\n",
      "2    E03   Rahul   23\n",
      "3    E04  Vishal   44\n",
      "4    E05    Ravi   32\n"
     ]
    }
   ],
   "source": [
    "print(pd.concat([df1,df2]))"
   ]
  },
  {
   "cell_type": "code",
   "execution_count": null,
   "id": "7bc17476-7872-4593-a5f1-f3402c453167",
   "metadata": {},
   "outputs": [],
   "source": []
  }
 ],
 "metadata": {
  "kernelspec": {
   "display_name": "Python 3 (ipykernel)",
   "language": "python",
   "name": "python3"
  },
  "language_info": {
   "codemirror_mode": {
    "name": "ipython",
    "version": 3
   },
   "file_extension": ".py",
   "mimetype": "text/x-python",
   "name": "python",
   "nbconvert_exporter": "python",
   "pygments_lexer": "ipython3",
   "version": "3.12.7"
  }
 },
 "nbformat": 4,
 "nbformat_minor": 5
}
